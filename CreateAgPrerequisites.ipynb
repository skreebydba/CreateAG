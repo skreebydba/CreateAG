{
    "metadata": {
        "kernelspec": {
            "name": "powershell",
            "display_name": "PowerShell",
            "language": "powershell"
        },
        "language_info": {
            "name": "powershell",
            "codemirror_mode": "shell",
            "mimetype": "text/x-sh",
            "file_extension": ".ps1"
        }
    },
    "nbformat_minor": 2,
    "nbformat": 4,
    "cells": [
        {
            "cell_type": "markdown",
            "source": [
                "# Create a Domain Controller\r\n",
                "## Provision a Windows Virtual Machine in Azure\r\n",
                "-- Add PowerShell to create VM\r\n",
                "Connect to your Azure Account.\r\n",
                ""
            ],
            "metadata": {
                "azdata_cell_guid": "7bbdb99f-1813-42ee-81df-cadc5aefa373"
            },
            "attachments": {}
        },
        {
            "cell_type": "code",
            "source": [
                "Connect-AzAccount;"
            ],
            "metadata": {
                "azdata_cell_guid": "a5fb0f3a-ff78-4784-a70a-ed04c6bdfaf5",
                "language": "powershell"
            },
            "outputs": [
                {
                    "name": "stdout",
                    "text": "WARNING: Unable to acquire token for tenant 'b4c9f32e-da17-4ded-9c95-ce9da38f25d9' with error \n'SharedTokenCacheCredential authentication unavailable. Token acquisition failed for user skreebydba@gmail.com. Ensure \nthat you have authenticated with a developer tool that supports Azure single sign on.'\n\n",
                    "output_type": "stream"
                },
                {
                    "name": "stdout",
                    "text": "Account              SubscriptionName     TenantId                             Environment\n-------              ----------------     --------                             -----------\nskreebydba@gmail.com Azure subscription 1 78f82c06-0d23-440d-9570-45b1eb2890df AzureCloud \n\n\n",
                    "output_type": "stream"
                }
            ],
            "execution_count": 1
        },
        {
            "cell_type": "markdown",
            "source": [
                "## Create a Resource Group"
            ],
            "metadata": {
                "language": "powershell",
                "azdata_cell_guid": "f4276dad-cd7f-47e1-93d7-1275f80754ec"
            },
            "attachments": {}
        },
        {
            "cell_type": "code",
            "source": [
                "$rgname = \"fbgagrg\";\r\n",
                "$location = \"EastUS\";\r\n",
                "New-AzResourceGroup -Name $rgname -Location $location;"
            ],
            "metadata": {
                "language": "powershell",
                "azdata_cell_guid": "9637f6d2-657f-449d-b086-8e99b5485a03",
                "tags": []
            },
            "outputs": [
                {
                    "name": "stdout",
                    "text": "\n\nResourceGroupName : fbgagrg\nLocation          : eastus\nProvisioningState : Succeeded\nTags              : \nResourceId        : /subscriptions/1cef0b5e-05ac-4d35-a0f0-9fc728036ef0/resourceGroups/fbgagrg\n\n",
                    "output_type": "stream"
                },
                {
                    "name": "stdout",
                    "text": "\n\n",
                    "output_type": "stream"
                }
            ],
            "execution_count": 2
        },
        {
            "cell_type": "markdown",
            "source": [
                "\\## Create a virtual machine to be used as a Domain Controller"
            ],
            "metadata": {
                "language": "powershell",
                "azdata_cell_guid": "ca65c178-0b1f-4795-9374-81685523f148"
            },
            "attachments": {}
        },
        {
            "cell_type": "code",
            "source": [
                "$password = ConvertTo-SecureString 'FTatisDumb@$$' -AsPlainText -Force;\r\n",
                "$cred = New-Object System.Management.Automation.PSCredential (\"skreeby\", $password);\r\n",
                "$vnet = \"fbgagvnet\";\r\n",
                "$subnet = \"fbgagsubnet\";\r\n",
                "$nsg = \"fbgagnsg\";\r\n",
                "$pubip = \"fbgagpubip\";\r\n",
                "$vmsplat = @{\r\n",
                "    ResourceGroupName = $rgname\r\n",
                "    Name = \"fbgagdc01\"\r\n",
                "    Location = $location\r\n",
                "    VirtualNetworkName = $vnet\r\n",
                "    SubnetName = $subnet\r\n",
                "    SecurityGroupName = $nsg\r\n",
                "    PublicIpAddressName = $pubip\r\n",
                "    OpenPorts = 80, 3389\r\n",
                "    Credential = $cred\r\n",
                "}\r\n",
                "\r\n",
                "New-AzVm @vmsplat"
            ],
            "metadata": {
                "language": "powershell",
                "azdata_cell_guid": "e88d4132-8f89-4f13-a71f-7a07854c1c5a"
            },
            "outputs": [
                {
                    "name": "stdout",
                    "text": "No Size value has been provided. The VM will be created with the default size Standard_D2s_v3.\n",
                    "output_type": "stream"
                },
                {
                    "name": "stdout",
                    "text": "\n\nResourceGroupName        : fbgagrg\nId                       : /subscriptions/1cef0b5e-05ac-4d35-a0f0-9fc728036ef0/resourceGroups/fbgagrg/providers/Microso\nft.Compute/virtualMachines/fbgagdc01\nVmId                     : 544a82be-bec9-4447-b7b9-2b1a3ab6bd20\nName                     : fbgagdc01\nType                     : Microsoft.Compute/virtualMachines\nLocation                 : eastus\nTags                     : {}\nHardwareProfile          : {VmSize}\nNetworkProfile           : {NetworkInterfaces}\nOSProfile                : {ComputerName, AdminUsername, WindowsConfiguration, Secrets, AllowExtensionOperations, \nRequireGuestProvisionSignal}\nProvisioningState        : Succeeded\nStorageProfile           : {ImageReference, OsDisk, DataDisks}\nFullyQualifiedDomainName : fbgagdc01-ca5b9b.EastUS.cloudapp.azure.com\n\n",
                    "output_type": "stream"
                },
                {
                    "name": "stdout",
                    "text": "\n\n",
                    "output_type": "stream"
                }
            ],
            "execution_count": 5
        },
        {
            "cell_type": "markdown",
            "source": [
                "## Install Active Directory Domain Services\r\n",
                "Run the following commands from the DC VM created in the previous step.\r\n",
                ""
            ],
            "metadata": {
                "azdata_cell_guid": "c1fd0d7f-1ad0-4335-8a70-19e54b12d2a9"
            },
            "attachments": {}
        },
        {
            "cell_type": "code",
            "source": [
                "Install-windowsfeature -name AD-Domain-Services -IncludeManagementTools;"
            ],
            "metadata": {
                "azdata_cell_guid": "807b350e-6bcb-4f75-80b9-a02c70b95e22",
                "language": "powershell"
            },
            "outputs": [
                {
                    "name": "stdout",
                    "text": "\nSuccess Restart Needed Exit Code      Feature Result                               \n------- -------------- ---------      --------------                               \nFalse   Maybe          Failed         {}                                           \nInstall-windowsfeature : The WinRM client cannot process the request because the server name cannot be resolved.\nAt line:2 char:1\n+ Install-windowsfeature -name AD-Domain-Services -IncludeManagementToo ...\n+ ~~~~~~~~~~~~~~~~~~~~~~~~~~~~~~~~~~~~~~~~~~~~~~~~~~~~~~~~~~~~~~~~~~~~~\n    + CategoryInfo          : DeviceError: (Microsoft.Manag...rDetailsHandle):CimException) [Install-WindowsFeature],  \n   Exception\n    + FullyQualifiedErrorId : UnSupportedTargetDevice,Microsoft.Windows.ServerManager.Commands.AddWindowsFeatureComman \n   d\n \n\n\n",
                    "output_type": "stream"
                }
            ],
            "execution_count": 6
        }
    ]
}