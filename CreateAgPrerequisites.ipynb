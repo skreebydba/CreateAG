{
    "metadata": {
        "kernelspec": {
            "name": "powershell",
            "display_name": "PowerShell",
            "language": "powershell"
        },
        "language_info": {
            "name": "powershell",
            "codemirror_mode": "shell",
            "mimetype": "text/x-sh",
            "file_extension": ".ps1"
        }
    },
    "nbformat_minor": 2,
    "nbformat": 4,
    "cells": [
        {
            "cell_type": "markdown",
            "source": [
                "# Create a Domain Controller\r\n",
                "## Provision a Windows Virtual Machine in Azure\r\n",
                "-- Add PowerShell to create VM\r\n",
                ""
            ],
            "metadata": {
                "azdata_cell_guid": "7bbdb99f-1813-42ee-81df-cadc5aefa373"
            },
            "attachments": {}
        },
        {
            "cell_type": "markdown",
            "source": [
                "## Install Active Directory Domain Services\r\n",
                ""
            ],
            "metadata": {
                "azdata_cell_guid": "c1fd0d7f-1ad0-4335-8a70-19e54b12d2a9"
            },
            "attachments": {}
        }
    ]
}